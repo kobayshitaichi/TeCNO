{
 "cells": [
  {
   "cell_type": "code",
   "execution_count": 1,
   "metadata": {},
   "outputs": [],
   "source": [
    "import pandas as pd\n",
    "import numpy as np\n",
    "import torch\n",
    "import matplotlib.pyplot as plt"
   ]
  },
  {
   "cell_type": "code",
   "execution_count": 2,
   "metadata": {},
   "outputs": [],
   "source": [
    "actions_dict = {\n",
    "        0:\"design\",\n",
    "        1:\"anesthesia\",\n",
    "        2:\"incision\",\n",
    "        3:\"dissection\",\n",
    "        4:\"closure\",\n",
    "        5:\"hemostasis\"\n",
    "    }\n",
    "name = list(actions_dict.values())"
   ]
  },
  {
   "cell_type": "markdown",
   "metadata": {},
   "source": [
    "# make seg_bars"
   ]
  },
  {
   "cell_type": "code",
   "execution_count": 108,
   "metadata": {},
   "outputs": [],
   "source": [
    "def segment_bars_with_confidence(save_path, confidence, *labels):\n",
    "    num_pics = len(labels) + 1\n",
    "    color_map = plt.get_cmap('gist_rainbow')\n",
    " \n",
    "    axprops = dict(xticks=[], yticks=[], frameon=False)\n",
    "    barprops = dict(aspect='auto', cmap=color_map,\n",
    "                    interpolation='nearest', vmin=0)\n",
    "    fig = plt.figure(figsize=(15, num_pics * 1.5))\n",
    " \n",
    "    interval = 1 / (num_pics+1)\n",
    "    for i, label in enumerate(labels):\n",
    "        i = i + 1\n",
    "        ax1 = fig.add_axes([0, 1-i*interval, 1, interval])\n",
    "        ax1.imshow([label], **barprops)\n",
    " \n",
    "    ax4 = fig.add_axes([0, interval, 1, interval])\n",
    "    ax4.set_xlim(0, len(confidence))\n",
    "    ax4.set_ylim(0, 1)\n",
    "    ax4.plot(range(len(confidence)), confidence)\n",
    "    ax4.plot(range(len(confidence)), [0.3] * len(confidence), color='red', label='0.5')\n",
    " \n",
    "    if save_path is not None:\n",
    "        plt.savefig(save_path)\n",
    "    else:\n",
    "        plt.show()\n",
    " \n",
    "    plt.close()"
   ]
  },
  {
   "cell_type": "code",
   "execution_count": 109,
   "metadata": {},
   "outputs": [
    {
     "name": "stdout",
     "output_type": "stream",
     "text": [
      "['design', 'anesthesia', 'incision', 'dissection', 'closure', 'hemostasis']\n"
     ]
    },
    {
     "data": {
      "image/png": "[encoded data removed]",
      "text/plain": [
       "<Figure size 432x288 with 1 Axes>"
      ]
     },
     "metadata": {
      "needs_background": "light"
     },
     "output_type": "display_data"
    }
   ],
   "source": [
    "plt.imshow(np.array([[1,2,3,4,5,6]]),plt.get_cmap('gist_rainbow'), interpolation='nearest')\n",
    "print(name)"
   ]
  },
  {
   "cell_type": "code",
   "execution_count": 4,
   "metadata": {},
   "outputs": [],
   "source": [
    "fname = '5fps_TF=True_extract_AWIBF_0.0001_20epoch'"
   ]
  },
  {
   "cell_type": "code",
   "execution_count": 111,
   "metadata": {},
   "outputs": [],
   "source": [
    "from sklearn.metrics import confusion_matrix\n",
    "li = [0,1,2]\n",
    "import pandas as pd\n",
    "import os\n",
    "true = []\n",
    "pred = []\n",
    "results_dir = './outputs_tecno/'+fname\n",
    "for num in li:\n",
    "    file_path = './outputs_tecno/'+fname+'/true_'+str(num)+'.pickle'\n",
    "    data_true = pd.read_pickle(file_path)[0].tolist()\n",
    "    for i in range(len(data_true)):\n",
    "        true.append(actions_dict[data_true[i]])\n",
    "    file_path = './outputs_tecno/'+fname+'/pred_'+str(num)+'.pickle'\n",
    "    data_pred = pd.read_pickle(file_path)[0]\n",
    "    confidence, predicted = torch.max(data_pred, 1)\n",
    "    os.makedirs(results_dir+'/images',exist_ok=True)\n",
    "    segment_bars_with_confidence(results_dir + '/images/{}.png'.format(str(num)),\n",
    "                                confidence[0].tolist(),\n",
    "                                data_true, predicted[0].tolist())\n",
    "    for i in range(len(predicted[0].tolist())):\n",
    "        pred.append(actions_dict[predicted[0].tolist()[i]])    \n"
   ]
  },
  {
   "cell_type": "code",
   "execution_count": 112,
   "metadata": {},
   "outputs": [],
   "source": [
    "val_mat = confusion_matrix(true,pred,labels=name)"
   ]
  },
  {
   "cell_type": "markdown",
   "metadata": {},
   "source": [
    "# metrics"
   ]
  },
  {
   "cell_type": "markdown",
   "metadata": {},
   "source": [
    "## video average metrics"
   ]
  },
  {
   "cell_type": "code",
   "execution_count": 113,
   "metadata": {},
   "outputs": [
    {
     "name": "stdout",
     "output_type": "stream",
     "text": [
      "recall 0.6726638117451028\n",
      "precision 0.6678061613887648\n",
      "f1 0.6185661328876358\n",
      "accuracy 0.7350115994669592\n"
     ]
    }
   ],
   "source": [
    "import pandas as pd\n",
    "from sklearn.metrics import confusion_matrix\n",
    "from sklearn.metrics import recall_score, precision_score, f1_score, accuracy_score\n",
    "\n",
    "li = [0,1,2]\n",
    "recs = []\n",
    "precs = []\n",
    "accs = []\n",
    "f1s = []\n",
    "\n",
    "for num in li:\n",
    "    lines = []\n",
    "    true = []\n",
    "    preds = []\n",
    "    file_path = './outputs_tecno/'+fname\n",
    "    tmp = pd.read_pickle(file_path + '/pred_'+str(num)+'.pickle')\n",
    "    tmp = torch.max(tmp[0], 1)[1][0].tolist()\n",
    "    for i in range(len(tmp)):\n",
    "        preds.append(actions_dict[tmp[i]])\n",
    "    data = pd.read_pickle(file_path + '/true_'+str(num)+'.pickle')\n",
    "    data = data[0].tolist()\n",
    "    for i in range(len(data)):\n",
    "        true.append(actions_dict[data[i]])\n",
    "    recs.append(recall_score(true, preds, average='macro'))\n",
    "    precs.append(precision_score(true, preds, average='macro'))\n",
    "    accs.append(accuracy_score(true, preds))\n",
    "    f1s.append(f1_score(true, preds, average='macro'))\n",
    "print('recall',np.array(recs).sum()/len(li))\n",
    "print('precision',np.array(precs).sum()/len(li))\n",
    "print('f1',np.array(f1s).sum()/len(li))\n",
    "print('accuracy',np.array(accs).sum()/len(li))\n",
    "val_mat = confusion_matrix(preds,true,labels=name)"
   ]
  },
  {
   "cell_type": "code",
   "execution_count": 114,
   "metadata": {},
   "outputs": [
    {
     "name": "stdout",
     "output_type": "stream",
     "text": [
      "recall [0.68407751 0.59212643 0.41582003 0.81672777 0.74809756 0.79587284] 0.675453688919311\n",
      "precision [0.54569892 0.81983186 0.80308339 0.66853544 0.67583289 0.3879826 ] 0.6501608502354671\n",
      "f1 [0.6071028  0.6876182  0.54793211 0.73523865 0.71013151 0.52165966] 0.6349471543776046\n",
      "accuracy 0.6972089182493807\n"
     ]
    }
   ],
   "source": [
    "li = [0,1,2]\n",
    "preds = []\n",
    "true = []\n",
    "for num in li:\n",
    "    file_path = './outputs_tecno/'+fname\n",
    "    tmp = pd.read_pickle(file_path + '/pred_'+str(num)+'.pickle')\n",
    "    tmp = torch.max(tmp[0], 1)[1][0].tolist()\n",
    "    for i in range(len(tmp)):\n",
    "        preds.append(actions_dict[tmp[i]])\n",
    "        data = pd.read_pickle(file_path + '/true_'+str(num)+'.pickle')\n",
    "    data = data[0].tolist()\n",
    "    for i in range(len(data)):\n",
    "        true.append(actions_dict[data[i]])\n",
    "val_mat = confusion_matrix(preds,true,labels=name)\n",
    "\n",
    "print('recall',recall_score(true, preds, average=None),recall_score(true, preds, average='macro'))\n",
    "print('precision',precision_score(true, preds, average=None),precision_score(true, preds, average='macro'))\n",
    "print('f1',f1_score(true, preds, average=None),f1_score(true, preds, average='macro'))\n",
    "print('accuracy',accuracy_score(true, preds))"
   ]
  },
  {
   "cell_type": "markdown",
   "metadata": {},
   "source": [
    "jaccard index"
   ]
  },
  {
   "cell_type": "code",
   "execution_count": 7,
   "metadata": {},
   "outputs": [],
   "source": [
    "import numpy as np \n",
    "from sklearn.metrics import jaccard_score"
   ]
  },
  {
   "cell_type": "code",
   "execution_count": 5,
   "metadata": {},
   "outputs": [
    {
     "ename": "NameError",
     "evalue": "name 'confusion_matrix' is not defined",
     "output_type": "error",
     "traceback": [
      "\u001b[0;31m---------------------------------------------------------------------------\u001b[0m",
      "\u001b[0;31mNameError\u001b[0m                                 Traceback (most recent call last)",
      "\u001b[0;32m<ipython-input-5-00ec4cfa7e26>\u001b[0m in \u001b[0;36m<module>\u001b[0;34m\u001b[0m\n\u001b[1;32m     12\u001b[0m     \u001b[0;32mfor\u001b[0m \u001b[0mi\u001b[0m \u001b[0;32min\u001b[0m \u001b[0mrange\u001b[0m\u001b[0;34m(\u001b[0m\u001b[0mlen\u001b[0m\u001b[0;34m(\u001b[0m\u001b[0mdata\u001b[0m\u001b[0;34m)\u001b[0m\u001b[0;34m)\u001b[0m\u001b[0;34m:\u001b[0m\u001b[0;34m\u001b[0m\u001b[0;34m\u001b[0m\u001b[0m\n\u001b[1;32m     13\u001b[0m         \u001b[0mtrue\u001b[0m\u001b[0;34m.\u001b[0m\u001b[0mappend\u001b[0m\u001b[0;34m(\u001b[0m\u001b[0mactions_dict\u001b[0m\u001b[0;34m[\u001b[0m\u001b[0mdata\u001b[0m\u001b[0;34m[\u001b[0m\u001b[0mi\u001b[0m\u001b[0;34m]\u001b[0m\u001b[0;34m]\u001b[0m\u001b[0;34m)\u001b[0m\u001b[0;34m\u001b[0m\u001b[0;34m\u001b[0m\u001b[0m\n\u001b[0;32m---> 14\u001b[0;31m \u001b[0mval_mat\u001b[0m \u001b[0;34m=\u001b[0m \u001b[0mconfusion_matrix\u001b[0m\u001b[0;34m(\u001b[0m\u001b[0mpreds\u001b[0m\u001b[0;34m,\u001b[0m\u001b[0mtrue\u001b[0m\u001b[0;34m,\u001b[0m\u001b[0mlabels\u001b[0m\u001b[0;34m=\u001b[0m\u001b[0mname\u001b[0m\u001b[0;34m)\u001b[0m\u001b[0;34m\u001b[0m\u001b[0;34m\u001b[0m\u001b[0m\n\u001b[0m\u001b[1;32m     15\u001b[0m \u001b[0;34m\u001b[0m\u001b[0m\n\u001b[1;32m     16\u001b[0m \u001b[0mprint\u001b[0m\u001b[0;34m(\u001b[0m\u001b[0;34m'jaccard'\u001b[0m\u001b[0;34m,\u001b[0m\u001b[0mjaccard_score\u001b[0m\u001b[0;34m(\u001b[0m\u001b[0mtrue\u001b[0m\u001b[0;34m,\u001b[0m \u001b[0mpreds\u001b[0m\u001b[0;34m,\u001b[0m \u001b[0maverage\u001b[0m\u001b[0;34m=\u001b[0m\u001b[0;32mNone\u001b[0m\u001b[0;34m)\u001b[0m\u001b[0;34m,\u001b[0m\u001b[0mrecall_score\u001b[0m\u001b[0;34m(\u001b[0m\u001b[0mtrue\u001b[0m\u001b[0;34m,\u001b[0m \u001b[0mpreds\u001b[0m\u001b[0;34m,\u001b[0m \u001b[0maverage\u001b[0m\u001b[0;34m=\u001b[0m\u001b[0;34m'macro'\u001b[0m\u001b[0;34m)\u001b[0m\u001b[0;34m)\u001b[0m\u001b[0;34m\u001b[0m\u001b[0;34m\u001b[0m\u001b[0m\n",
      "\u001b[0;31mNameError\u001b[0m: name 'confusion_matrix' is not defined"
     ]
    }
   ],
   "source": [
    "li = [0,1,2]\n",
    "preds = []\n",
    "true = []\n",
    "for num in li:\n",
    "    file_path = './outputs_tecno/'+fname\n",
    "    tmp = pd.read_pickle(file_path + '/pred_'+str(num)+'.pickle')\n",
    "    tmp = torch.max(tmp[0], 1)[1][0].tolist()\n",
    "    for i in range(len(tmp)):\n",
    "        preds.append(actions_dict[tmp[i]])\n",
    "        data = pd.read_pickle(file_path + '/true_'+str(num)+'.pickle')\n",
    "    data = data[0].tolist()\n",
    "    for i in range(len(data)):\n",
    "        true.append(actions_dict[data[i]])\n",
    "#val_mat = confusion_matrix(preds,true,labels=name)\n",
    "\n",
    "print('jaccard',jaccard_score(true, preds, average=None),recall_score(true, preds, average='macro'))"
   ]
  },
  {
   "cell_type": "code",
   "execution_count": 10,
   "metadata": {},
   "outputs": [
    {
     "name": "stdout",
     "output_type": "stream",
     "text": [
      "jaccard [0.43585615 0.52394677 0.37734607 0.58132599 0.55054566 0.35286845] 0.470314847172358\n"
     ]
    }
   ],
   "source": [
    "print('jaccard',jaccard_score(true, preds, average=None),jaccard_score(true, preds, average='macro'))"
   ]
  },
  {
   "cell_type": "code",
   "execution_count": null,
   "metadata": {},
   "outputs": [],
   "source": []
  }
 ],
 "metadata": {
  "kernelspec": {
   "display_name": "Python 3.8.8 ('base')",
   "language": "python",
   "name": "python3"
  },
  "language_info": {
   "codemirror_mode": {
    "name": "ipython",
    "version": 3
   },
   "file_extension": ".py",
   "mimetype": "text/x-python",
   "name": "python",
   "nbconvert_exporter": "python",
   "pygments_lexer": "ipython3",
   "version": "3.8.8"
  },
  "orig_nbformat": 4,
  "vscode": {
   "interpreter": {
    "hash": "9ab3e1625478820ce8e6eab39f778c70118865cbc392bc0f6e664f6b4f52763b"
   }
  }
 },
 "nbformat": 4,
 "nbformat_minor": 2
}
