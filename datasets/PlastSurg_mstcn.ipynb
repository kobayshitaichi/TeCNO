{
 "cells": [
  {
   "cell_type": "code",
   "execution_count": 16,
   "metadata": {},
   "outputs": [],
   "source": [
    "from pathlib import Path\n",
    "from torch.utils.data import Dataset\n",
    "import numpy as np\n",
    "import pandas as pd\n"
   ]
  },
  {
   "cell_type": "code",
   "execution_count": 58,
   "metadata": {},
   "outputs": [],
   "source": [
    "class PlastSurgHelper(Dataset):\n",
    "    def __init__(self, data_p, dataset_split=None):\n",
    "        assert dataset_split != None\n",
    "        self.data_p = data_p\n",
    "        self.data_root = Path(\"/media/aolab/untitiled/workspace/PlastSurg/outputs/pickle_export\")##\n",
    "        self.number_vids = len(self.data_p)\n",
    "        self.dataset_split = dataset_split\n",
    "        self.factor_sampling = 1\n",
    "\n",
    "    def __len__(self):\n",
    "        return self.number_vids\n",
    "    \n",
    "    def __getitem__(self, index):\n",
    "        vid_id = index\n",
    "        p = self.data_root / self.data_p[vid_id]\n",
    "        unpickled_x = pd.read_pickle(p)\n",
    "        stem = np.asarray(unpickled_x[0],dtype=np.float32)[::self.factor_sampling]\n",
    "        y_hat = np.asarray(unpickled_x[1],dtype=np.float32)[::self.factor_sampling]\n",
    "        y = np.asarray(unpickled_x[2])[::self.factor_sampling]\n",
    "        tool = np.asarray(unpickled_x[3])[::self.factor_sampling]\n",
    "        return stem, y_hat, y, tool"
   ]
  },
  {
   "cell_type": "code",
   "execution_count": 66,
   "metadata": {},
   "outputs": [],
   "source": [
    "class PlastSurg():\n",
    "    def __init__(self):\n",
    "        self.name = \"outputs\"\n",
    "        self.class_labels = [\n",
    "            \"design\",\n",
    "            \"anesthesia\",\n",
    "            \"incision\",\n",
    "            \"dissection\",\n",
    "            \"closure\",\n",
    "            \"hemostasis\"\n",
    "        ]\n",
    "        self.out_features = 6 ###\n",
    "        self.features_per_seconds = 1###\n",
    "        # hparams.factor_sampling = (int(25 / hparams.features_subsampling))\n",
    "        # print(\n",
    "        #     f\"Subsampling features: 25features_ps --> {hparams.features_subsampling}features_ps (factor: {hparams.factor_sampling})\"\n",
    "        # )        \n",
    "        self.data_p = {}\n",
    "        self.data_p[\"train\"] = [(\n",
    "            f\"{self.features_per_seconds}fps/video_{i:02d}_{self.features_per_seconds}fps.pkl\"\n",
    "        ) for i in range(1,4)]\n",
    "        self.data_p[\"val\"] = [(\n",
    "            f\"{self.features_per_seconds}fps/video_{i:02d}_{self.features_per_seconds}fps.pkl\"\n",
    "        ) for i in range(4,5)]\n",
    "        self.data_p[\"test\"] = [(\n",
    "            f\"{self.features_per_seconds}fps/video_{i:02d}_{self.features_per_seconds}fps.pkl\"\n",
    "        ) for i in range(5,6)]        \n",
    "        self.data = {}\n",
    "        for split in [\"train\", \"val\", \"test\"]:\n",
    "            self.data[split] = PlastSurgHelper(self.data_p[split],dataset_split=split)\n",
    "        \n",
    "        print(\n",
    "            f\"train size: {self.data['train'].__len__()} - val size: {self.data['val'].__len__()}\"\n",
    "            f\"test size: {self.data['test'].__len__()}\"\n",
    "        )"
   ]
  },
  {
   "cell_type": "code",
   "execution_count": 63,
   "metadata": {},
   "outputs": [
    {
     "name": "stdout",
     "output_type": "stream",
     "text": [
      "train size: 3 - val size: 1test size: 1\n"
     ]
    }
   ],
   "source": [
    "a = PlastSurg()"
   ]
  },
  {
   "cell_type": "code",
   "execution_count": 65,
   "metadata": {},
   "outputs": [
    {
     "data": {
      "text/plain": [
       "<__main__.PlastSurgHelper at 0x7f69dd2a1130>"
      ]
     },
     "execution_count": 65,
     "metadata": {},
     "output_type": "execute_result"
    }
   ],
   "source": [
    "a.data['train']"
   ]
  },
  {
   "cell_type": "code",
   "execution_count": 27,
   "metadata": {},
   "outputs": [
    {
     "data": {
      "text/plain": [
       "['1fps/video_01_1fps.pkl', '1fps/video_02_1fps.pkl', '1fps/video_03_1fps.pkl']"
      ]
     },
     "execution_count": 27,
     "metadata": {},
     "output_type": "execute_result"
    }
   ],
   "source": [
    "a.data_p['train']"
   ]
  },
  {
   "cell_type": "code",
   "execution_count": 3,
   "metadata": {},
   "outputs": [
    {
     "data": {
      "text/plain": [
       "950.8177777777778"
      ]
     },
     "execution_count": 3,
     "metadata": {},
     "output_type": "execute_result"
    }
   ],
   "source": [
    "1711472/30/60"
   ]
  },
  {
   "cell_type": "code",
   "execution_count": 15,
   "metadata": {},
   "outputs": [
    {
     "data": {
      "text/plain": [
       "array([0, 0, 0, ..., 5, 5, 5])"
      ]
     },
     "execution_count": 15,
     "metadata": {},
     "output_type": "execute_result"
    }
   ],
   "source": [
    "import pandas as pd\n",
    "pd.read_pickle('../outputs/pickle_export/5fps_TF=False_tecno/video_01_5fps.pkl')[2]"
   ]
  },
  {
   "cell_type": "code",
   "execution_count": 1,
   "metadata": {},
   "outputs": [
    {
     "data": {
      "text/plain": [
       "[1, 2, 3]"
      ]
     },
     "execution_count": 1,
     "metadata": {},
     "output_type": "execute_result"
    }
   ],
   "source": [
    "[1,2] + [3]"
   ]
  },
  {
   "cell_type": "code",
   "execution_count": 5,
   "metadata": {},
   "outputs": [
    {
     "name": "stdout",
     "output_type": "stream",
     "text": [
      "0\n",
      "1\n",
      "2\n",
      "3\n",
      "4\n",
      "5\n",
      "6\n",
      "7\n",
      "8\n",
      "9\n"
     ]
    }
   ],
   "source": [
    "for i in range(10):\n",
    "    print(i)"
   ]
  },
  {
   "cell_type": "code",
   "execution_count": null,
   "metadata": {},
   "outputs": [],
   "source": []
  }
 ],
 "metadata": {
  "interpreter": {
   "hash": "9ab3e1625478820ce8e6eab39f778c70118865cbc392bc0f6e664f6b4f52763b"
  },
  "kernelspec": {
   "display_name": "Python 3.8.8 ('base')",
   "language": "python",
   "name": "python3"
  },
  "language_info": {
   "codemirror_mode": {
    "name": "ipython",
    "version": 3
   },
   "file_extension": ".py",
   "mimetype": "text/x-python",
   "name": "python",
   "nbconvert_exporter": "python",
   "pygments_lexer": "ipython3",
   "version": "3.8.8"
  },
  "orig_nbformat": 4
 },
 "nbformat": 4,
 "nbformat_minor": 2
}
